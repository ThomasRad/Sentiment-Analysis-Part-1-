{
 "cells": [
  {
   "cell_type": "markdown",
   "metadata": {},
   "source": [
    "### This portion of the project will look at 10 different resturants and scrape 10 reviews per resturant. We will use a web scraping bot to acheive this. "
   ]
  },
  {
   "cell_type": "code",
   "execution_count": 1,
   "metadata": {},
   "outputs": [],
   "source": [
    "# First we will import various packages. \n",
    "\n",
    "from bs4 import BeautifulSoup\n",
    "import requests\n",
    "import csv"
   ]
  },
  {
   "cell_type": "code",
   "execution_count": 133,
   "metadata": {},
   "outputs": [
    {
     "name": "stdout",
     "output_type": "stream",
     "text": [
      "<title>Top 10 Best Sushi in Richmond Hill, ON, Canada - Updated COVID-19 Hours &amp; Services - Last Updated - Yelp</title>\n"
     ]
    }
   ],
   "source": [
    "# Here we download the webpage and print the tittle to verify everything is working. \n",
    "\n",
    "html = requests.get('https://www.yelp.com/search?find_desc=Sushi&find_loc=Richmond%20Hill%2C%20ON%2C%20Canada')\n",
    "soup = BeautifulSoup(html.text, 'html.parser')\n",
    "print(soup.title)"
   ]
  },
  {
   "cell_type": "markdown",
   "metadata": {},
   "source": [
    "### Here I ran into some trouble finding the right handle to scape the webpage so I tried an alternative way that worked. There is probably a simpler way to do it but oh well."
   ]
  },
  {
   "cell_type": "code",
   "execution_count": 134,
   "metadata": {},
   "outputs": [
    {
     "name": "stdout",
     "output_type": "stream",
     "text": [
      "['/', '#', '/advertise/consumer_header_redirect', '/writeareview', '/login?return_url=https://www.yelp.com/search?find_desc=Sushi&find_loc=Richmond%20Hill%2C%20ON%2C%20Canada', '/signup?return_url=https://www.yelp.com/search?find_desc=Sushi&find_loc=Richmond%20Hill%2C%20ON%2C%20Canada', '/search?cflt=restaurants&find_loc=Richmond%20Hill%2C%20ON%2C%20Canada', '/search?cflt=homeservices&find_loc=Richmond%20Hill%2C%20ON%2C%20Canada', '/search?cflt=auto&find_loc=Richmond%20Hill%2C%20ON%2C%20Canada', None, '', '/adredir?ad_business_id=6i_EXDHikHWhhDipzMt8rw&campaign_id=yhyNLQ5qR1RZE5HDcz9qMA&click_origin=search_results&placement=above_search&redirect_url=https%3A%2F%2Fwww.yelp.com%2Fbiz%2Fhibiki-japanese-cuisine-markham-2&request_id=c81d1fb5a2e83a40&signature=8066a7de3e6764e9a06ab256e2c2ce016b87dd11f771c93a99fb76451b74c805&slot=0', '/adredir?ad_business_id=6i_EXDHikHWhhDipzMt8rw&campaign_id=yhyNLQ5qR1RZE5HDcz9qMA&click_origin=search_results&placement=above_search&redirect_url=https%3A%2F%2Fwww.yelp.com%2Fbiz%2Fhibiki-japanese-cuisine-markham-2&request_id=c81d1fb5a2e83a40&signature=8066a7de3e6764e9a06ab256e2c2ce016b87dd11f771c93a99fb76451b74c805&slot=0', '/search?cflt=japanese&find_desc=Sushi&find_loc=Richmond+Hill%2C+ON%2C+Canada', '/search?cflt=sushi&find_desc=Sushi&find_loc=Richmond+Hill%2C+ON%2C+Canada', '/adredir?ad_business_id=6i_EXDHikHWhhDipzMt8rw&campaign_id=yhyNLQ5qR1RZE5HDcz9qMA&click_origin=read_more&placement=above_search&redirect_url=https%3A%2F%2Fwww.yelp.com%2Fbiz%2Fhibiki-japanese-cuisine-markham-2&request_id=c81d1fb5a2e83a40&signature=8066a7de3e6764e9a06ab256e2c2ce016b87dd11f771c93a99fb76451b74c805&slot=0', '/biz/mi-ne-japanese-restaurant-richmond-hill-2?osq=Sushi', '/biz/mi-ne-japanese-restaurant-richmond-hill-2?osq=Sushi', '/search?cflt=japanese&find_desc=Sushi&find_loc=Richmond+Hill%2C+ON%2C+Canada', '/search?cflt=sushi&find_desc=Sushi&find_loc=Richmond+Hill%2C+ON%2C+Canada', '/biz/mi-ne-japanese-restaurant-richmond-hill-2?hrid=nIOUz-FRNzU3afDeOaeMMQ&osq=Sushi', '/biz/sushi-aoi-richmond-hill?osq=Sushi', '/biz/sushi-aoi-richmond-hill?osq=Sushi', '/search?cflt=japanese&find_desc=Sushi&find_loc=Richmond+Hill%2C+ON%2C+Canada', '/search?cflt=sushi&find_desc=Sushi&find_loc=Richmond+Hill%2C+ON%2C+Canada', '/biz/sushi-aoi-richmond-hill?hrid=4jXL4A5fBwXG0O4yLfw7vg&osq=Sushi', '/biz/project-fish-sushi-and-kitchen-richmond-hill?osq=Sushi', '/biz/project-fish-sushi-and-kitchen-richmond-hill?osq=Sushi', '/search?cflt=sushi&find_desc=Sushi&find_loc=Richmond+Hill%2C+ON%2C+Canada', '/search?cflt=japanese&find_desc=Sushi&find_loc=Richmond+Hill%2C+ON%2C+Canada', '/search?cflt=asianfusion&find_desc=Sushi&find_loc=Richmond+Hill%2C+ON%2C+Canada', '/biz/project-fish-sushi-and-kitchen-richmond-hill?hrid=WVUAcpx_loAs23HaAAx78g&osq=Sushi', '/reservations/project-fish-sushi-and-kitchen-richmond-hill', '/biz/oyaji-sushi-richmond-hill?osq=Sushi', '/biz/oyaji-sushi-richmond-hill?osq=Sushi', '/search?cflt=japanese&find_desc=Sushi&find_loc=Richmond+Hill%2C+ON%2C+Canada', '/search?cflt=korean&find_desc=Sushi&find_loc=Richmond+Hill%2C+ON%2C+Canada', '/biz/oyaji-sushi-richmond-hill?hrid=foYwoaxmMz0b-VSLkI7-bw&osq=Sushi', '/biz/ai-sushi-richmond-hill-2?osq=Sushi', '/biz/ai-sushi-richmond-hill-2?osq=Sushi', '/search?cflt=sushi&find_desc=Sushi&find_loc=Richmond+Hill%2C+ON%2C+Canada', '/search?cflt=japanese&find_desc=Sushi&find_loc=Richmond+Hill%2C+ON%2C+Canada', '/biz/ai-sushi-richmond-hill-2?hrid=jM4hKEbDD1QzLMviu4YrIQ&osq=Sushi', '/biz/ginza-sushi-express-richmond-hill-3?osq=Sushi', '/biz/ginza-sushi-express-richmond-hill-3?osq=Sushi', '/search?cflt=sushi&find_desc=Sushi&find_loc=Richmond+Hill%2C+ON%2C+Canada', '/search?cflt=thai&find_desc=Sushi&find_loc=Richmond+Hill%2C+ON%2C+Canada', '/biz/ginza-sushi-express-richmond-hill-3?hrid=ODZZjWcPP1-cRxYEGxiLww&osq=Sushi', '/biz/toshi-ryoriten-richmond-hill?osq=Sushi', '/biz/toshi-ryoriten-richmond-hill?osq=Sushi', '/search?cflt=japanese&find_desc=Sushi&find_loc=Richmond+Hill%2C+ON%2C+Canada', '/biz/toshi-ryoriten-richmond-hill?hrid=DKyHKoqG0SORWbN8O-A6qA&osq=Sushi', '/biz/pearl-sushi-richmond-hill-4?osq=Sushi', '/biz/pearl-sushi-richmond-hill-4?osq=Sushi', '/search?cflt=japanese&find_desc=Sushi&find_loc=Richmond+Hill%2C+ON%2C+Canada', '/search?cflt=sushi&find_desc=Sushi&find_loc=Richmond+Hill%2C+ON%2C+Canada', '/biz/pearl-sushi-richmond-hill-4?hrid=m_6L6G9DAlWAzXfGsBPuRw&osq=Sushi', '/biz/tomo-japanese-restaurant-richmond-hill?osq=Sushi', '/biz/tomo-japanese-restaurant-richmond-hill?osq=Sushi', '/search?cflt=japanese&find_desc=Sushi&find_loc=Richmond+Hill%2C+ON%2C+Canada', '/search?cflt=sushi&find_desc=Sushi&find_loc=Richmond+Hill%2C+ON%2C+Canada', '/biz/tomo-japanese-restaurant-richmond-hill?hrid=r6tK_FEq7cf3t-Qj_fhAww&osq=Sushi', '/biz/rin-sushi-richmond-hill?osq=Sushi', '/biz/rin-sushi-richmond-hill?osq=Sushi', '/search?cflt=sushi&find_desc=Sushi&find_loc=Richmond+Hill%2C+ON%2C+Canada', '/search?cflt=japanese&find_desc=Sushi&find_loc=Richmond+Hill%2C+ON%2C+Canada', '/biz/rin-sushi-richmond-hill?hrid=le_1vbQgb5RKpWsIkcSz6Q&osq=Sushi', '/biz/haru-richmond-hill?osq=Sushi', '/biz/haru-richmond-hill?osq=Sushi', '/search?cflt=japanese&find_desc=Sushi&find_loc=Richmond+Hill%2C+ON%2C+Canada', '/search?cflt=korean&find_desc=Sushi&find_loc=Richmond+Hill%2C+ON%2C+Canada', '/biz/haru-richmond-hill?hrid=Ww81VRFBTF02vpUdtgEp9g&osq=Sushi', '/biz/hug-sushi-richmond-hill?osq=Sushi', '/biz/hug-sushi-richmond-hill?osq=Sushi', '/search?cflt=sushi&find_desc=Sushi&find_loc=Richmond+Hill%2C+ON%2C+Canada', '/biz/hug-sushi-richmond-hill?hrid=Zw9vCw4iQEA3ZeXYidGN4Q&osq=Sushi', '/biz/yusushi-takeaway-richmond-hill?osq=Sushi', '/biz/yusushi-takeaway-richmond-hill?osq=Sushi', '/search?cflt=sushi&find_desc=Sushi&find_loc=Richmond+Hill%2C+ON%2C+Canada', '/biz/yusushi-takeaway-richmond-hill?hrid=H1LltJQFUgXe50Xt1nwheA&osq=Sushi', '/biz/unome-sushi-richmond-hill?osq=Sushi', '/biz/unome-sushi-richmond-hill?osq=Sushi', '/search?cflt=sushi&find_desc=Sushi&find_loc=Richmond+Hill%2C+ON%2C+Canada', '/search?cflt=japanese&find_desc=Sushi&find_loc=Richmond+Hill%2C+ON%2C+Canada', '/biz/unome-sushi-richmond-hill?hrid=nxvp8r_ZDxyYf88MFArxLw&osq=Sushi', '/biz/sushi-wa-vaughan?osq=Sushi', '/biz/sushi-wa-vaughan?osq=Sushi', '/search?cflt=sushi&find_desc=Sushi&find_loc=Richmond+Hill%2C+ON%2C+Canada', '/search?cflt=japanese&find_desc=Sushi&find_loc=Richmond+Hill%2C+ON%2C+Canada', '/search?cflt=asianfusion&find_desc=Sushi&find_loc=Richmond+Hill%2C+ON%2C+Canada', '/biz/sushi-wa-vaughan?hrid=Dn25QqU6jN-mpDnWdqDJBg&osq=Sushi', '/biz/ichiban-fish-house-richmond-hill?osq=Sushi', '/biz/ichiban-fish-house-richmond-hill?osq=Sushi', '/search?cflt=seafood&find_desc=Sushi&find_loc=Richmond+Hill%2C+ON%2C+Canada', '/search?cflt=sushi&find_desc=Sushi&find_loc=Richmond+Hill%2C+ON%2C+Canada', '/biz/ichiban-fish-house-richmond-hill?hrid=34YLSS4HpyGdTlWgLGMw5w&osq=Sushi', '/biz/kitano-sushi-richmond-hill?osq=Sushi', '/biz/kitano-sushi-richmond-hill?osq=Sushi', '/search?cflt=japanese&find_desc=Sushi&find_loc=Richmond+Hill%2C+ON%2C+Canada', '/biz/kitano-sushi-richmond-hill?hrid=BwDADm2jQJvEOxlJxCwnAw&osq=Sushi', '/biz/mine-sushi-markham?osq=Sushi', '/biz/mine-sushi-markham?osq=Sushi', '/search?cflt=japanese&find_desc=Sushi&find_loc=Richmond+Hill%2C+ON%2C+Canada', '/search?cflt=sushi&find_desc=Sushi&find_loc=Richmond+Hill%2C+ON%2C+Canada', '/biz/mine-sushi-markham?hrid=AO7xaVt1h43JdTjLj1Rn3A&osq=Sushi', '/biz/sapporo-sushi-richmond-hill?osq=Sushi', '/biz/sapporo-sushi-richmond-hill?osq=Sushi', '/search?cflt=japanese&find_desc=Sushi&find_loc=Richmond+Hill%2C+ON%2C+Canada', '/biz/sapporo-sushi-richmond-hill?hrid=DYOlpptnrRLky32r2dOpgw&osq=Sushi', '/biz/akane-sushi-richmond-hill-3?osq=Sushi', '/biz/akane-sushi-richmond-hill-3?osq=Sushi', '/search?cflt=sushi&find_desc=Sushi&find_loc=Richmond+Hill%2C+ON%2C+Canada', '/search?cflt=japanese&find_desc=Sushi&find_loc=Richmond+Hill%2C+ON%2C+Canada', '/biz/akane-sushi-richmond-hill-3?hrid=ItudgkipBK6blWH-9BQqIA&osq=Sushi', '/biz/senbazuru-sushi-bar-richmond-hill?osq=Sushi', '/biz/senbazuru-sushi-bar-richmond-hill?osq=Sushi', '/search?cflt=sushi&find_desc=Sushi&find_loc=Richmond+Hill%2C+ON%2C+Canada', '/search?cflt=japanese&find_desc=Sushi&find_loc=Richmond+Hill%2C+ON%2C+Canada', '/biz/senbazuru-sushi-bar-richmond-hill?hrid=IJWSVrG4g5rH_cQM8CVNCg&osq=Sushi', '/biz/hub-sushi-fusion-japanese-restaurant-thornhill?osq=Sushi', '/biz/hub-sushi-fusion-japanese-restaurant-thornhill?osq=Sushi', '/search?cflt=japanese&find_desc=Sushi&find_loc=Richmond+Hill%2C+ON%2C+Canada', '/search?cflt=sushi&find_desc=Sushi&find_loc=Richmond+Hill%2C+ON%2C+Canada', '/search?cflt=asianfusion&find_desc=Sushi&find_loc=Richmond+Hill%2C+ON%2C+Canada', '/biz/hub-sushi-fusion-japanese-restaurant-thornhill?hrid=rUN9DtOpdguylNqtZoVQpA&osq=Sushi', '/biz/mitsui-sushi-richmond-hill-5?osq=Sushi', '/biz/mitsui-sushi-richmond-hill-5?osq=Sushi', '/search?cflt=japanese&find_desc=Sushi&find_loc=Richmond+Hill%2C+ON%2C+Canada', '/search?cflt=sushi&find_desc=Sushi&find_loc=Richmond+Hill%2C+ON%2C+Canada', '/search?cflt=bubbletea&find_desc=Sushi&find_loc=Richmond+Hill%2C+ON%2C+Canada', '/biz/mitsui-sushi-richmond-hill-5?hrid=d2NawVQy4mFTiM15hrGtXg&osq=Sushi', '/biz/torii-sushi-aurora?osq=Sushi', '/biz/torii-sushi-aurora?osq=Sushi', '/search?cflt=sushi&find_desc=Sushi&find_loc=Richmond+Hill%2C+ON%2C+Canada', '/search?cflt=japanese&find_desc=Sushi&find_loc=Richmond+Hill%2C+ON%2C+Canada', '/search?cflt=dimsum&find_desc=Sushi&find_loc=Richmond+Hill%2C+ON%2C+Canada', '/biz/torii-sushi-aurora?hrid=_vX2nRvTCkz5s81HnjBOKA&osq=Sushi', '/biz/minami-sushi-aurora?osq=Sushi', '/biz/minami-sushi-aurora?osq=Sushi', '/search?cflt=sushi&find_desc=Sushi&find_loc=Richmond+Hill%2C+ON%2C+Canada', '/search?cflt=japanese&find_desc=Sushi&find_loc=Richmond+Hill%2C+ON%2C+Canada', '/biz/minami-sushi-aurora?hrid=-43B_pYSWpVfevJUn3zv4g&osq=Sushi', '/biz/yummy-sushi-richmond-hill-2?osq=Sushi', '/biz/yummy-sushi-richmond-hill-2?osq=Sushi', '/search?cflt=japanese&find_desc=Sushi&find_loc=Richmond+Hill%2C+ON%2C+Canada', '/search?cflt=sushi&find_desc=Sushi&find_loc=Richmond+Hill%2C+ON%2C+Canada', '/biz/yummy-sushi-richmond-hill-2?hrid=plB3v0hWtb3hTYREPYMw3A&osq=Sushi', '/biz/akimi-japanese-cuisine-richmond-hill?osq=Sushi', '/biz/akimi-japanese-cuisine-richmond-hill?osq=Sushi', '/search?cflt=sushi&find_desc=Sushi&find_loc=Richmond+Hill%2C+ON%2C+Canada', '/search?cflt=japanese&find_desc=Sushi&find_loc=Richmond+Hill%2C+ON%2C+Canada', '/biz/akimi-japanese-cuisine-richmond-hill?hrid=kUUPY7C6kR7vqU8chQwdVQ&osq=Sushi', '/biz/zen-japanese-restaurant-markham?osq=Sushi', '/biz/zen-japanese-restaurant-markham?osq=Sushi', '/search?cflt=japanese&find_desc=Sushi&find_loc=Richmond+Hill%2C+ON%2C+Canada', '/search?cflt=sushi&find_desc=Sushi&find_loc=Richmond+Hill%2C+ON%2C+Canada', '/biz/zen-japanese-restaurant-markham?hrid=11afa97FempL2KL0hq5y3w&osq=Sushi', '/biz/toyosu-markham-markham?osq=Sushi', '/biz/toyosu-markham-markham?osq=Sushi', '/search?cflt=sushi&find_desc=Sushi&find_loc=Richmond+Hill%2C+ON%2C+Canada', '/biz/toyosu-markham-markham?hrid=8Oh5-6-2wT0_JSFuFD4WAw&osq=Sushi', '/biz/aroowha-sushi-and-sake-bar-thornhill?osq=Sushi', '/biz/aroowha-sushi-and-sake-bar-thornhill?osq=Sushi', '/search?cflt=japanese&find_desc=Sushi&find_loc=Richmond+Hill%2C+ON%2C+Canada', '/search?cflt=seafoodmarkets&find_desc=Sushi&find_loc=Richmond+Hill%2C+ON%2C+Canada', '/biz/aroowha-sushi-and-sake-bar-thornhill?hrid=hmICG0O6T_PTjhc6SY3MkQ&osq=Sushi', '/search?find_desc=Sushi&find_loc=Richmond%20Hill%2C%20ON%2C%20Canada&start=30', '/search?find_desc=Sushi&find_loc=Richmond%20Hill%2C%20ON%2C%20Canada&start=60', '/search?find_desc=Sushi&find_loc=Richmond%20Hill%2C%20ON%2C%20Canada&start=90', '/search?find_desc=Sushi&find_loc=Richmond%20Hill%2C%20ON%2C%20Canada&start=120', '/search?find_desc=Sushi&find_loc=Richmond%20Hill%2C%20ON%2C%20Canada&start=150', '/search?find_desc=Sushi&find_loc=Richmond%20Hill%2C%20ON%2C%20Canada&start=180', '/search?find_desc=Sushi&find_loc=Richmond%20Hill%2C%20ON%2C%20Canada&start=210', '/search?find_desc=Sushi&find_loc=Richmond%20Hill%2C%20ON%2C%20Canada&start=240', '/search?find_desc=Sushi&find_loc=Richmond%20Hill%2C%20ON%2C%20Canada&start=30', '/search/add_business/search_button_www?find_loc=Richmond+Hill%2C+ON%2C+Canada', '/contact?topic=feedback', '/search?cflt=autorepair&find_loc=Richmond+Hill%2C+ON', '/search?cflt=dryclean&find_loc=Richmond+Hill%2C+ON', '/search?cflt=handyman&find_loc=Richmond+Hill%2C+ON', '/search?cflt=homecleaning&find_loc=Richmond+Hill%2C+ON', '/search?cflt=locksmiths&find_loc=Richmond+Hill%2C+ON', '/search?cflt=movers&find_loc=Richmond+Hill%2C+ON', '/search?cflt=oilchange&find_loc=Richmond+Hill%2C+ON', '/search?cflt=mobilephonerepair&find_loc=Richmond+Hill%2C+ON', '/topic/toronto-sushi', '/topic/markham-missing-ayce-sushi', '/topic/brampton-sushi-time', '/about', '/careers/home', '/press', 'http://yelp-ir.com/', '/guidelines', '/static?p=tos', '/tos/privacy_policy', '/static?p=tos#third-parties', '/costs', '/collections', '/talk', '/events', '/local_yelp', 'https://officialblog.yelp.com/', 'https://www.yelp-support.com/', '/yelpmobile?source=footer', '/developers?country=US', '/rss', 'https://biz.yelp.com?utm_source=footer&utm_medium=www&utm_content=claim_footer_link&utm_campaign=claim_business', '/advertise', 'https://www.yelpreservations.com/', 'https://www.yelpwifi.com/', 'https://yelp.nowait.com/', 'https://biz.yelp.com/support/case_studies', 'https://www.yelp-support.com/Yelp_for_Business_Owners?l=en_US', 'https://www.yelpblog.com/section/business', '', '', '/about', 'https://officialblog.yelp.com/', 'https://www.yelp-support.com/', '/static?p=tos', 'http://databyacxiom.com']\n"
     ]
    }
   ],
   "source": [
    "#After looking at the HTML I found that all the links were under class a. and i needed the link which was under\n",
    "# href. \n",
    "links = []\n",
    "for link in soup.find_all('a'):\n",
    "    links.append(link.get('href'))\n",
    "print(links[:])"
   ]
  },
  {
   "cell_type": "markdown",
   "metadata": {},
   "source": [
    "### This part we will just collect the 10 resturant webpages for our scrapping bot to work on"
   ]
  },
  {
   "cell_type": "code",
   "execution_count": 224,
   "metadata": {},
   "outputs": [
    {
     "name": "stdout",
     "output_type": "stream",
     "text": [
      "/biz/mi-ne-japanese-restaurant-richmond-hill-2?osq=Sushi\n"
     ]
    },
    {
     "data": {
      "text/plain": [
       "'http://yelp.com//biz/mi-ne-japanese-restaurant-richmond-hill-2?osq=Sushi'"
      ]
     },
     "execution_count": 224,
     "metadata": {},
     "output_type": "execute_result"
    }
   ],
   "source": [
    "#Let us start to define our websites that we will use to find our reviews. I needed to add  yelp.com/ to make\n",
    "#the links work \n",
    "print(links[17])\n",
    "First = 'http://yelp.com/'+links[17]\n",
    "First\n",
    "\n",
    "# The second page \n",
    "print(links[21])\n",
    "Second = 'http://yelp.com/'+links[21]\n",
    "Second\n",
    "\n",
    "# The third page \n",
    "print(links[80])\n",
    "Third = 'http://yelp.com/'+links[80]\n",
    "Third\n",
    "\n",
    "# The Forth page \n",
    "print(links[33])\n",
    "Fourth = 'http://yelp.com/'+links[33]\n",
    "Fourth\n",
    "\n",
    "# The Fifth page\n",
    "print(links[38]) \n",
    "Fifth = 'http://yelp.com/'+links[38]\n",
    "Fifth\n",
    "\n",
    "#The Sixth page\n",
    "print(links[43])\n",
    "Sixth = 'http://yelp.com/'+links[43]\n",
    "Sixth \n",
    "\n",
    "#The Seventh page \n",
    "print(links[48])\n",
    "Seven = 'http://yelp.com/'+links[48]\n",
    "Seven\n",
    "\n",
    "#Eigth page \n",
    "print(links[53])\n",
    "Eight = 'http://yelp.com/'+links[53]\n",
    "Eight\n",
    "\n",
    "#ninth page \n",
    "print(links[58])\n",
    "Nine = 'http://yelp.com/'+links[58]\n",
    "Nine\n",
    "\n",
    "#last one\n",
    "print(links[63])\n",
    "Ten = 'http://yelp.com/'+links[63]\n",
    "Ten"
   ]
  },
  {
   "cell_type": "markdown",
   "metadata": {},
   "source": [
    "### Here I am just combining them into a list and then just printing them to look over to see if everything looks good. "
   ]
  },
  {
   "cell_type": "code",
   "execution_count": 234,
   "metadata": {},
   "outputs": [
    {
     "name": "stdout",
     "output_type": "stream",
     "text": [
      "http://yelp.com//biz/mi-ne-japanese-restaurant-richmond-hill-2?osq=Sushi\n",
      "http://yelp.com//biz/sushi-aoi-richmond-hill?osq=Sushi\n",
      "http://yelp.com//biz/unome-sushi-richmond-hill?osq=Sushi\n",
      "http://yelp.com//biz/oyaji-sushi-richmond-hill?osq=Sushi\n",
      "http://yelp.com//biz/ai-sushi-richmond-hill-2?osq=Sushi\n",
      "http://yelp.com//biz/ginza-sushi-express-richmond-hill-3?osq=Sushi\n",
      "http://yelp.com//biz/toshi-ryoriten-richmond-hill?osq=Sushi\n",
      "http://yelp.com//biz/pearl-sushi-richmond-hill-4?osq=Sushi\n",
      "http://yelp.com//biz/tomo-japanese-restaurant-richmond-hill?osq=Sushi\n",
      "http://yelp.com//biz/rin-sushi-richmond-hill?osq=Sushi\n"
     ]
    }
   ],
   "source": [
    "All_results = [First, Second, Third,Fourth,Fifth, Sixth, Seven, Eight,Nine,Ten]\n",
    "for res in All_results:\n",
    "    print(res)"
   ]
  },
  {
   "cell_type": "markdown",
   "metadata": {},
   "source": [
    "### For each website I need to pick 10 reviews. I want to find the name of the resturant, the rating, the date of review, and also the text review itself. Lets do one instance first. "
   ]
  },
  {
   "cell_type": "code",
   "execution_count": 235,
   "metadata": {},
   "outputs": [],
   "source": [
    "#Lets look at a random restaurant \n",
    "html = requests.get(Third)\n",
    "soup = BeautifulSoup(html.text, 'html.parser')"
   ]
  },
  {
   "cell_type": "code",
   "execution_count": 191,
   "metadata": {},
   "outputs": [
    {
     "data": {
      "text/plain": [
       "'Best Sushi in Richmond Hill, ON, Canada'"
      ]
     },
     "execution_count": 191,
     "metadata": {},
     "output_type": "execute_result"
    }
   ],
   "source": [
    "#First we find the name of the resturant being reviewed. \n",
    "soup.find('h1').text"
   ]
  },
  {
   "cell_type": "code",
   "execution_count": 148,
   "metadata": {},
   "outputs": [
    {
     "data": {
      "text/plain": [
       "'4.0'"
      ]
     },
     "execution_count": 148,
     "metadata": {},
     "output_type": "execute_result"
    }
   ],
   "source": [
    "#Now we get the ratings for the place. The first rating it gets is the overall rating for the combined reviews so we will start\n",
    "#from the 2nd rating onwards, for customer ratings. \n",
    "soup.find(itemprop=\"ratingValue\").get(\"content\")"
   ]
  },
  {
   "cell_type": "code",
   "execution_count": 149,
   "metadata": {},
   "outputs": [
    {
     "data": {
      "text/plain": [
       "'4/14/2020'"
      ]
     },
     "execution_count": 149,
     "metadata": {},
     "output_type": "execute_result"
    }
   ],
   "source": [
    "#Next we find the date published. \n",
    "L = soup.find('span',{'class':'lemon--span__373c0__3997G text__373c0__2Kxyz text-color--mid__373c0__jCeOG text-align--left__373c0__2XGa-'})\n",
    "L.text"
   ]
  },
  {
   "cell_type": "code",
   "execution_count": 150,
   "metadata": {},
   "outputs": [
    {
     "data": {
      "text/plain": [
       "\"I've been using Uber more for Mi Ne during this time to satisfy those sushi cravings. Maki set lunch F is my go to. The pieces are huge with lots of tuna and salmon. Ask for their spicy mayo on the side. Comes with salad and miso soup. I do wish that Mi Ne can do more to ensure the meals are secured during delivery. Still a 5 star review on my end because of how delicious it is.\""
      ]
     },
     "execution_count": 150,
     "metadata": {},
     "output_type": "execute_result"
    }
   ],
   "source": [
    "#Now we find the text for the review. \n",
    "N = soup.find('p',{'lemon--p__373c0__3Qnnj text__373c0__2Kxyz comment__373c0__3EKjH text-color--normal__373c0__3xep9 text-align--left__373c0__2XGa-'})\n",
    "N.text"
   ]
  },
  {
   "cell_type": "markdown",
   "metadata": {},
   "source": [
    "### Now that we have tested it for one instance we can create a function to streamline the processes "
   ]
  },
  {
   "cell_type": "code",
   "execution_count": 151,
   "metadata": {},
   "outputs": [
    {
     "name": "stdout",
     "output_type": "stream",
     "text": [
      "Mi Ne Japanese Restaurant\n",
      "Mi Ne Japanese Restaurant\n",
      "Mi Ne Japanese Restaurant\n",
      "Mi Ne Japanese Restaurant\n",
      "Mi Ne Japanese Restaurant\n",
      "Mi Ne Japanese Restaurant\n",
      "Mi Ne Japanese Restaurant\n",
      "Mi Ne Japanese Restaurant\n",
      "Mi Ne Japanese Restaurant\n",
      "Mi Ne Japanese Restaurant\n"
     ]
    }
   ],
   "source": [
    "#The resturant name is just this one output \n",
    "for i in range(10):\n",
    "    print(soup.find('h1').text)"
   ]
  },
  {
   "cell_type": "code",
   "execution_count": 152,
   "metadata": {},
   "outputs": [
    {
     "name": "stdout",
     "output_type": "stream",
     "text": [
      "5.0\n",
      "5.0\n",
      "3.0\n",
      "4.0\n",
      "4.0\n",
      "5.0\n",
      "5.0\n",
      "3.0\n",
      "1.0\n",
      "4.0\n"
     ]
    }
   ],
   "source": [
    "#Next we print out the review scores. The First value is the resturants overalll\n",
    "#Rating so I can gonna reindex to making things cleaner. \n",
    "RatingValue = []\n",
    "for rate in soup.find_all(itemprop=\"ratingValue\"):\n",
    "    RatingValue.append(rate.get(\"content\"))\n",
    "    \n",
    "#Now we just call the elts from ratings from 1 to 11. \n",
    "for i in range(10):\n",
    "    RatingValue[i] = RatingValue[i+1]"
   ]
  },
  {
   "cell_type": "code",
   "execution_count": 163,
   "metadata": {},
   "outputs": [
    {
     "data": {
      "text/plain": [
       "'2/10/2020'"
      ]
     },
     "execution_count": 163,
     "metadata": {},
     "output_type": "execute_result"
    }
   ],
   "source": [
    "#Now we print out all Dates Published\n",
    "L1 = soup.find_all('span',{'class':'lemon--span__373c0__3997G text__373c0__2Kxyz text-color--mid__373c0__jCeOG text-align--left__373c0__2XGa-'})\n",
    "L1 = L1[1].text\n",
    "L1"
   ]
  },
  {
   "cell_type": "code",
   "execution_count": 154,
   "metadata": {
    "scrolled": true
   },
   "outputs": [
    {
     "name": "stdout",
     "output_type": "stream",
     "text": [
      "I've been using Uber more for Mi Ne during this time to satisfy those sushi cravings. Maki set lunch F is my go to. The pieces are huge with lots of tuna and salmon. Ask for their spicy mayo on the side. Comes with salad and miso soup. I do wish that Mi Ne can do more to ensure the meals are secured during delivery. Still a 5 star review on my end because of how delicious it is.\n",
      "Definitely a hidden gem! If I can give this place a 4.5 I would! First of all the food is amazing! Out of this world. The torched salmon is a huge recommendation from me. We actually got The combo which came with noodles fried shrimp and sweet potato, and two types of sushi which is a spicy salmon and torch salmon. The price for that one is about $27 but it's definitely something that's worth it. The second one we bought came with salmon and asparagus which was not my cup of tea, but still very delicious. We actually came during happy hour which is from 3 pm to 5pm. There is a 10% discount if you pay by card and 15% if you pay by cash. Other than the happy hours there's a price difference between the lunch menu and the dinner menu. The location of Mi Ne is inside a plaza which won't be hard to miss. Great for dinner dates :)\n",
      "High quality, large pieces of sushi- we got takeout so I'm not ranking the dine-in experience although we have been before and it's been 3.5/5. This is tasty and great but honestly, for $23 14 pieces of sushi, an inedible miso soup, and basic green salad, that's not worth it. So the dynamite roll and California rolls were very tasty, fresh and large (5/5) right of the bat, but couple that with a \"gym socks\" smelling miso soup, that tasted like it smelled, and a basic lettuce salad, I truly don't feel the takeout is worthy of even a 4-star rating.For the sushi rolls, delicious, but so many better spots with a reasonable price.If it wasn't a matter of convenience I would not return. Enjoy the eats, friends! :)\n",
      "Been here a few times and I have to say, always had a good meal.  Nothing way out of this world, however, they do a great job of staying current.  They have it all.  Sushi, Sashimi, and the teriyaki dishes.  As the trend moved to Aburi and Oshi, they added that to their menu and do a good job of that as well.  They also have all the popular fusion rolls.They've been in what I call upper Richmond Hill for a very long time satisfying the locals' craving for Japanese food.  When it comes to sushi, I'm kind of a purist.  I shy away from all those fusion maki.  Just give me the standard nigiri sushi, some generous cuts of sashimi and I am in foodie heaven.I ordered the dinner combo which came with basically everything, including Teriyaki Chicken, and Tempura.  Added some rolls and made it a dinner for two.There are a few sushi places near Elgin Mills and Yonge, and each have their strong points, however, if you are looking for consistently good food, Mi Ne would be a good choice.Cheers.\n",
      "A good sushi place with tasty food. We got an array of food and service was decent. Their takeout is usually on point as well. The price was rather high compared to restaurants south of Hwy7.\n",
      "This is the first time I am at this MiNe location since I usually visit the one located close to Woodbine and Hey 7.  The decoration is the usual Japanese sushi setting with a lot of partitions for each table to ensure privacy.  There was also a really cool samarai outfit toward the entrance.  The server was really nice and I was attended to even though I haven't started ordering.  I guess I usually have lower service expectation since the servers were mostly Koreans. We ordered the medium size sushi combo with a chicken udon and beef teriyaki.  The sushi and sashimi were really fresh and clean tasting.  The rolls were unusually large, but I was happy with the size as all of us were pretty full after.  The chicken from the udon was grilled to perfection, really juicy and flavourful with a slight charred flavour.  I think for this dish alone, I would return to have this again.  The beef from the teriyaki was also amazing grilled to a medium done with great charred flavours.  The sauce was also great since it was not too sweet with plenty of mixed vegetables which I loved.  I haven't been satisfied with a meal for a while and that was definitely one of those days when every dish tasted great and to my liking.  It could also be due to the fact that most of my friends misunderstood the location to be the Woodbine one.  So, I had to wait and was super hungry.  Lol!\n",
      "Best sushi places I like in GTA are both Mi Ne Sushi restaurants (Markham and Richmond Hill).The sushi is fantastic and fresh always. The prices are a little high but totally worth it considering don't charge for Miso soup, garden salad and tea which they serve with lunch/dinner.They use wasabi in their nigiri sushi, which we love. Please tell your server if you don't like it.Whenever we are in Markham, Richmond Hill area we make it a point to indulge.\n",
      "This is a nice place. The sushi tastes really good. My problem is not much parking spaces. I find the place small and not enough room to move around. I love how they have booths, you get to have your privacy. The food prices are decent. The servers are nice and friendly. Good place to eat.\n",
      "Since there are many good reviews, I decided give it a try. The ambience is really outdated. The waiter set me at a table and completely ignore me. I needed to flag one the waitress down and ordered. I ordered tempura box. Just mediocre. Won't be back.\n",
      "Late night, needed food and this was one of the only places still open for take out. I've heard about this place but never went because the price seems high and well, the prices are quite high.We got a small platter with 20 sushi and 12 maki and it came to 48$.The food was very good, the rolls are huge and the sushi was yummy. The wasabi used in the sushi was a but much for me though, too spicy.I loved how the platter looked, so pretty. I might want to come back to try lunch if I feel like splurging a little. Definitely not a place I can eat at regularly.\n"
     ]
    }
   ],
   "source": [
    "#Print out each persons review. Lets just verify that it works out overall. \n",
    "N = soup.find_all('p',{'lemon--p__373c0__3Qnnj text__373c0__2Kxyz comment__373c0__3EKjH text-color--normal__373c0__3xep9 text-align--left__373c0__2XGa-'})\n",
    "for i in range(10):\n",
    "    print(N[i].text)"
   ]
  },
  {
   "cell_type": "markdown",
   "metadata": {},
   "source": [
    "### We will now use all the machinery that we built to create a CSV file and populate it with all the ratings of the resturants as well as the actual text reviews themselves. "
   ]
  },
  {
   "cell_type": "code",
   "execution_count": 237,
   "metadata": {},
   "outputs": [],
   "source": [
    "#Now we will write all of the information into a csvfile and label the columns of interest. \n",
    "\n",
    "csv_file = open('Reviews_Yelp1.csv','w',encoding=\"utf-8\")\n",
    "csv_writer = csv.writer(csv_file) \n",
    "csv_writer.writerow(['Name','RatingValue','DatePublished','Review'])\n",
    "\n",
    "#Need a for loop for each website and another to get information for 10 reviews. \n",
    "#we Do the outter one first. \n",
    "\n",
    "for i in range(10):\n",
    "#Call the website.\n",
    "\n",
    "    html = requests.get(All_results[i])\n",
    "    soup = BeautifulSoup(html.text, 'html.parser')\n",
    "    \n",
    "#I need to reindex the Values for RatingValue first. \n",
    "\n",
    "    RatingValue1 = []\n",
    "    for rate in soup.find_all(itemprop=\"ratingValue\"):\n",
    "        RatingValue1.append(rate.get(\"content\"))\n",
    "    \n",
    " #Define our Name we will use over and over again    \n",
    "    Name = soup.find('h1').text\n",
    "    DatePublished1 = soup.find_all('span',{'class':'lemon--span__373c0__3997G text__373c0__2Kxyz text-color--mid__373c0__jCeOG text-align--left__373c0__2XGa-'})\n",
    "    Review1 = soup.find_all('p',{'lemon--p__373c0__3Qnnj text__373c0__2Kxyz comment__373c0__3EKjH text-color--normal__373c0__3xep9 text-align--left__373c0__2XGa-'})\n",
    "    \n",
    "    for j in range(10):\n",
    "        RatingValue = RatingValue1[j+1]\n",
    "        DatePublished = DatePublished1[j].text\n",
    "        Review = Review1[j].text\n",
    "        csv_writer.writerow([Name,RatingValue,DatePublished,Review],)\n",
    "        \n",
    "csv_file.close()"
   ]
  },
  {
   "cell_type": "markdown",
   "metadata": {},
   "source": [
    "### And BAM! we are done. "
   ]
  },
  {
   "cell_type": "code",
   "execution_count": null,
   "metadata": {},
   "outputs": [],
   "source": []
  }
 ],
 "metadata": {
  "kernelspec": {
   "display_name": "Python 3",
   "language": "python",
   "name": "python3"
  },
  "language_info": {
   "codemirror_mode": {
    "name": "ipython",
    "version": 3
   },
   "file_extension": ".py",
   "mimetype": "text/x-python",
   "name": "python",
   "nbconvert_exporter": "python",
   "pygments_lexer": "ipython3",
   "version": "3.7.6"
  }
 },
 "nbformat": 4,
 "nbformat_minor": 4
}
